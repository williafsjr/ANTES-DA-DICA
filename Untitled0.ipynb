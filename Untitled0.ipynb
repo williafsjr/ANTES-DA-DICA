{
  "nbformat": 4,
  "nbformat_minor": 0,
  "metadata": {
    "colab": {
      "provenance": [],
      "authorship_tag": "ABX9TyNWULaRbwt9nYQHYQCFnp8S",
      "include_colab_link": true
    },
    "kernelspec": {
      "name": "python3",
      "display_name": "Python 3"
    },
    "language_info": {
      "name": "python"
    }
  },
  "cells": [
    {
      "cell_type": "markdown",
      "metadata": {
        "id": "view-in-github",
        "colab_type": "text"
      },
      "source": [
        "<a href=\"https://colab.research.google.com/github/williafsjr/ANTES-DA-DICA/blob/main/Untitled0.ipynb\" target=\"_parent\"><img src=\"https://colab.research.google.com/assets/colab-badge.svg\" alt=\"Open In Colab\"/></a>"
      ]
    },
    {
      "cell_type": "markdown",
      "source": [
        "Observações sobre ESTRUTURAS CONDICIONAIS"
      ],
      "metadata": {
        "id": "Waj3vj8UhbfG"
      }
    },
    {
      "cell_type": "code",
      "source": [
        "n1 = float(input('Digite Nota 1: '))\n",
        "n2 = float(input('Digite Nota 2: '))\n",
        "media = (n1+n2)/2\n",
        "freq = float(input('digite freq: '))\n",
        "if media >= 6 and freq >= 0.75:\n",
        "  print('Aprovado')\n",
        "else:\n",
        "  print('Reprovado')"
      ],
      "metadata": {
        "colab": {
          "base_uri": "https://localhost:8080/"
        },
        "id": "VDV8exQphjf7",
        "outputId": "b93f346a-6664-43c4-e559-6cdf666503ec"
      },
      "execution_count": 12,
      "outputs": [
        {
          "output_type": "stream",
          "name": "stdout",
          "text": [
            "Digite Nota 1: 6\n",
            "Digite Nota 2: 6\n",
            "digite freq: 0.5\n",
            "Reprovado\n"
          ]
        }
      ]
    },
    {
      "cell_type": "markdown",
      "source": [],
      "metadata": {
        "id": "LKZN3R5VnCZ2"
      }
    },
    {
      "cell_type": "code",
      "source": [
        "numero = int(input('Digite um valor: '))\n",
        "\n",
        "if numero % 2 == 0:\n",
        "  print('Seu número é par')\n",
        "else:\n",
        "  print('Seu número é impar')"
      ],
      "metadata": {
        "colab": {
          "base_uri": "https://localhost:8080/"
        },
        "id": "_bho3M8nptF4",
        "outputId": "8da06c38-7822-4f2a-dd42-3c0641c1daa9"
      },
      "execution_count": 17,
      "outputs": [
        {
          "output_type": "stream",
          "name": "stdout",
          "text": [
            "Digite um valor: 100000000\n",
            "Seu número é par\n"
          ]
        }
      ]
    },
    {
      "cell_type": "code",
      "source": [
        "import math\n",
        "numero=int(input('Digite um valor: '))\n",
        "if numero >=0:\n",
        "  raiz_quadrada = math.sqrt(numero)\n",
        "  print(f'a raiz quadrada de {numero} é {raiz_quadrada}')\n",
        "else:\n",
        "  print('número inválido')"
      ],
      "metadata": {
        "colab": {
          "base_uri": "https://localhost:8080/"
        },
        "id": "-Zydxd6prsFG",
        "outputId": "aa08a8ea-d6a0-445c-e12e-c1b2b4ad39b0"
      },
      "execution_count": 27,
      "outputs": [
        {
          "output_type": "stream",
          "name": "stdout",
          "text": [
            "Digite um valor: 9\n",
            "a raiz quadrada de 9 é 3.0\n"
          ]
        }
      ]
    },
    {
      "cell_type": "code",
      "source": [
        "comprimento = int(input('Digite o comprimento da camiseta: '))\n",
        "largura = int(input('Digite a largura da camiseta: '))\n",
        "if comprimento <= 66 or largura <= 50:\n",
        "  print(f'Tamanho PP')\n",
        "elif comprimento <= 70 or largura <= 54:\n",
        "  print(f'Tamanho P')\n",
        "elif comprimento <= 72 or largura <= 56:\n",
        "  print (f'Tamanho M')\n",
        "elif comprimento <= 74 or largura <= 58:\n",
        "  print(f'Tamanho G')\n",
        "elif comprimento <= 76 or largura <= 60:\n",
        "  print(f'Tamanho GG')\n",
        "else:\n",
        "  print(f'Tamanho XG')"
      ],
      "metadata": {
        "colab": {
          "base_uri": "https://localhost:8080/"
        },
        "id": "9r6iHMRNuY7W",
        "outputId": "f1115da8-1f54-497c-b7dd-3a82290db9dc"
      },
      "execution_count": 33,
      "outputs": [
        {
          "output_type": "stream",
          "name": "stdout",
          "text": [
            "Digite o comprimento da camiseta: 71\n",
            "Digite a largura da camiseta: 71\n",
            "Tamanho M\n"
          ]
        }
      ]
    }
  ]
}